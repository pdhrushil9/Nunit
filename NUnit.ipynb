{
 "cells": [
  {
   "cell_type": "markdown",
   "metadata": {
    "slideshow": {
     "slide_type": "slide"
    }
   },
   "source": [
    "<h2>NUnit Demo.</h2>\n",
    "<p><a href=\"http://www.nunit.org/\">NUnit.</a> </p>\n",
    "<p><a href=\"http://junit.org/\">JUnit.</a> </p>\n",
    "<ul>\n",
    "    <li>Open Source.</li>\n",
    "    <li>Escrito em C#.</li>\n",
    "    <li><a href=\"http://www.nunit.org/nuget/nunit3-license.txt\">MIT.</a></li>\n",
    "    <li>Atributos principais são parecidos com o MSTest.</li>\n",
    "    <li>Tem seu próprio runner.</li>\n",
    "    <li>Instalação por Nuget.</li>\n",
    "    <li>Diversos atributos que podem ajudar na reutilização do código.</li>\n",
    "</ul>"
   ]
  },
  {
   "cell_type": "markdown",
   "metadata": {
    "slideshow": {
     "slide_type": "slide"
    }
   },
   "source": [
    "<h2>Instalação:</h2>"
   ]
  },
  {
   "cell_type": "code",
   "execution_count": null,
   "metadata": {
    "collapsed": false,
    "slideshow": {
     "slide_type": "subslide"
    }
   },
   "outputs": [],
   "source": [
    "from IPython.core.display import Image\n",
    "Image('C:\\\\Users\\\\aduzi\\\\Desktop\\\\nunit_instalation.jpg') "
   ]
  },
  {
   "cell_type": "markdown",
   "metadata": {
    "slideshow": {
     "slide_type": "subslide"
    }
   },
   "source": [
    "<h2>Agora veremos um pouco na prática.</h2>"
   ]
  }
 ],
 "metadata": {
  "celltoolbar": "Slideshow",
  "kernelspec": {
   "display_name": "Python 2",
   "language": "python",
   "name": "python2"
  },
  "language_info": {
   "codemirror_mode": {
    "name": "ipython",
    "version": 2
   },
   "file_extension": ".py",
   "mimetype": "text/x-python",
   "name": "python",
   "nbconvert_exporter": "python",
   "pygments_lexer": "ipython2",
   "version": "2.7.10"
  }
 },
 "nbformat": 4,
 "nbformat_minor": 0
}
